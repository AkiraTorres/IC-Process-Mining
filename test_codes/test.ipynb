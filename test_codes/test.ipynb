{
 "cells": [
  {
   "cell_type": "code",
   "metadata": {
    "ExecuteTime": {
     "end_time": "2024-06-20T07:25:39.684074Z",
     "start_time": "2024-06-20T07:25:39.680599Z"
    }
   },
   "source": [
    "from gsppy.gsp import GSP\n",
    "import pandas as pd\n",
    "import json\n",
    "from prefixspan import PrefixSpan"
   ],
   "outputs": [],
   "execution_count": 92
  },
  {
   "cell_type": "code",
   "metadata": {
    "ExecuteTime": {
     "end_time": "2024-06-20T07:25:39.695964Z",
     "start_time": "2024-06-20T07:25:39.686155Z"
    }
   },
   "source": [
    "sceneries_names = [\n",
    "    \"1-first\",\n",
    "    \"2-second\",\n",
    "    \"3-third\",\n",
    "    \"4-fourth\",\n",
    "    \"5-fifth\",\n",
    "    \"6-sixth\",\n",
    "    \"7-seventh\",\n",
    "    \"8-eighth\",\n",
    "]"
   ],
   "outputs": [],
   "execution_count": 93
  },
  {
   "cell_type": "code",
   "metadata": {
    "ExecuteTime": {
     "end_time": "2024-06-20T07:25:39.699719Z",
     "start_time": "2024-06-20T07:25:39.697123Z"
    }
   },
   "source": [
    "def gsp_mining(sequences_list: list, minsup: float = 0.08) -> list:\n",
    "    return GSP(sequences_list).search(minsup)"
   ],
   "outputs": [],
   "execution_count": 94
  },
  {
   "cell_type": "code",
   "metadata": {
    "ExecuteTime": {
     "end_time": "2024-06-20T07:25:39.704671Z",
     "start_time": "2024-06-20T07:25:39.700726Z"
    }
   },
   "source": [
    "def prefix_mining(sequences_list: list, minsup: float = 0.08, subsequence = None) -> list:\n",
    "    ps = PrefixSpan(sequences_list)\n",
    "    min_support = len(sequences_list)*minsup\n",
    "    \n",
    "    if subsequence:\n",
    "        res = ps.frequent(min_support, filter=lambda patt, matches: is_subsequence(subsequence, patt))\n",
    "        return res\n",
    "    \n",
    "    res = ps.frequent(min_support)\n",
    "    \n",
    "    max_seq_len = 0\n",
    "    for index in res:\n",
    "        if len(index[1]) > max_seq_len:\n",
    "            max_seq_len = len(index[1])\n",
    "    \n",
    "    n_sequences = [{} for _ in range(max_seq_len)]\n",
    "    \n",
    "    for index in res:\n",
    "        n_sequences[len(index[1]) - 1][f'{index[1]}'] = index[0]\n",
    "        \n",
    "    return n_sequences"
   ],
   "outputs": [],
   "execution_count": 95
  },
  {
   "cell_type": "code",
   "metadata": {
    "ExecuteTime": {
     "end_time": "2024-06-20T07:25:39.708942Z",
     "start_time": "2024-06-20T07:25:39.706029Z"
    }
   },
   "source": [
    "def format_tf_data(s) -> list:\n",
    "    data = []\n",
    "    s = pd.DataFrame(data=s).to_dict(orient=\"records\")\n",
    "    for user_sequence in s:\n",
    "        data.append([event[\"event\"] for event in user_sequence[\"events\"]])\n",
    "    return data"
   ],
   "outputs": [],
   "execution_count": 96
  },
  {
   "cell_type": "code",
   "metadata": {
    "ExecuteTime": {
     "end_time": "2024-06-20T07:25:39.713032Z",
     "start_time": "2024-06-20T07:25:39.709955Z"
    }
   },
   "source": [
    "def read_params(file: str) -> str:\n",
    "    return f\"./sceneries/{file}.json\""
   ],
   "outputs": [],
   "execution_count": 97
  },
  {
   "cell_type": "code",
   "metadata": {
    "ExecuteTime": {
     "end_time": "2024-06-20T07:25:39.716547Z",
     "start_time": "2024-06-20T07:25:39.714049Z"
    }
   },
   "source": [
    "def write_result(data, file: str, path = 'sceneries_mining_results') -> None:\n",
    "    with open(f\"./{path}/{file}.json\", \"w+\") as _file:\n",
    "        json.dump(data, _file)"
   ],
   "outputs": [],
   "execution_count": 98
  },
  {
   "cell_type": "code",
   "metadata": {
    "ExecuteTime": {
     "end_time": "2024-06-20T07:25:39.720722Z",
     "start_time": "2024-06-20T07:25:39.716547Z"
    }
   },
   "source": [
    "def remap_keys(user_sequences: dict, seq_quantities) -> dict:\n",
    "    def process_key(key):\n",
    "        modified_key = key.replace('[', '').replace(']', '').replace(\"'\", \"\")\n",
    "        return [part.strip() for part in modified_key.split(',')]\n",
    "    \n",
    "    return {f\"{seq_quantities}_sequences\": [\n",
    "        {\"sequence\": process_key(k), \"total\": v} for k, v in user_sequences.items()\n",
    "    ]}\n"
   ],
   "outputs": [],
   "execution_count": 99
  },
  {
   "metadata": {
    "ExecuteTime": {
     "end_time": "2024-06-20T07:25:39.724701Z",
     "start_time": "2024-06-20T07:25:39.721453Z"
    }
   },
   "cell_type": "code",
   "source": [
    "def is_subsequence(subseq, sequence):\n",
    "    len_subseq = len(subseq)\n",
    "    len_sequence = len(sequence)\n",
    "    i, j = 0, 0\n",
    "\n",
    "    if len_subseq > len_sequence:\n",
    "        return False\n",
    "\n",
    "    while i < len_subseq and j < len_sequence:\n",
    "        # subseq_element = subseq[i].strip() if isinstance(subseq[i], str) else subseq[i]\n",
    "        # sequence_element = (sequence[j].strip() if isinstance(sequence[j], str) else sequence[j])\n",
    "        if subseq[i] == sequence[j]:\n",
    "            i += 1\n",
    "        j += 1\n",
    "\n",
    "    return i == len_subseq"
   ],
   "outputs": [],
   "execution_count": 100
  },
  {
   "metadata": {
    "ExecuteTime": {
     "end_time": "2024-06-20T07:25:39.728720Z",
     "start_time": "2024-06-20T07:25:39.725210Z"
    }
   },
   "cell_type": "code",
   "source": [
    "def is_sublist_with_gap(sub, main, gap=2):\n",
    "    if not sub:\n",
    "        return True\n",
    "        \n",
    "    sub_len = len(sub)\n",
    "    main_len = len(main)\n",
    "\n",
    "    for start in range(main_len - sub_len + 1):\n",
    "        sub_index = 0\n",
    "        matches = 0\n",
    "\n",
    "        for main_index in range(start, main_len):\n",
    "            if main[main_index] == sub[sub_index]:\n",
    "                matches += 1\n",
    "                sub_index += 1\n",
    "                if matches == sub_len:\n",
    "                    return True\n",
    "            elif main_index - start >= sub_index * (gap + 1):\n",
    "                break\n",
    "\n",
    "    return False"
   ],
   "outputs": [],
   "execution_count": 101
  },
  {
   "metadata": {
    "ExecuteTime": {
     "end_time": "2024-06-20T07:25:39.732477Z",
     "start_time": "2024-06-20T07:25:39.730179Z"
    }
   },
   "cell_type": "code",
   "source": [
    "def extract_events(event_list):\n",
    "     data = [event_dict['event'] for event_dict in event_list]\n",
    "     return data"
   ],
   "outputs": [],
   "execution_count": 102
  },
  {
   "metadata": {
    "ExecuteTime": {
     "end_time": "2024-06-20T07:25:39.735859Z",
     "start_time": "2024-06-20T07:25:39.732477Z"
    }
   },
   "cell_type": "code",
   "source": [
    "def get_supports(target, data):\n",
    "    res = prefix_mining(formatted, minsup, sequence_list)\n",
    "    f, i = len(res), 0\n",
    "    for subsequences in res:\n",
    "        i += subsequences[0]\n",
    "    return f, i"
   ],
   "outputs": [],
   "execution_count": 103
  },
  {
   "metadata": {
    "ExecuteTime": {
     "end_time": "2024-06-20T07:25:39.754746Z",
     "start_time": "2024-06-20T07:25:39.750582Z"
    }
   },
   "cell_type": "code",
   "source": [
    "def get_sequence_ids(target, data):\n",
    "    ids = []\n",
    "    for index, row in data.iterrows():\n",
    "        if is_subsequence(target, row['events']):\n",
    "            ids.append(row['key'])\n",
    "    return ids"
   ],
   "outputs": [],
   "execution_count": 104
  },
  {
   "metadata": {
    "ExecuteTime": {
     "end_time": "2024-06-20T07:25:39.769001Z",
     "start_time": "2024-06-20T07:25:39.765800Z"
    }
   },
   "cell_type": "code",
   "source": [
    "def get_sequence_grade(ids: list[int], data) -> float:\n",
    "    grade = 0.0\n",
    "    for index, row in data.iterrows():\n",
    "        if row['key'] in ids:\n",
    "            grade += row['grade']\n",
    "    \n",
    "    return round(grade/len(ids), 2)"
   ],
   "outputs": [],
   "execution_count": 105
  },
  {
   "metadata": {
    "ExecuteTime": {
     "end_time": "2024-06-20T07:25:39.784851Z",
     "start_time": "2024-06-20T07:25:39.777542Z"
    }
   },
   "cell_type": "code",
   "source": "sceneries = {}",
   "outputs": [],
   "execution_count": 106
  },
  {
   "metadata": {
    "ExecuteTime": {
     "end_time": "2024-06-20T08:11:27.237638Z",
     "start_time": "2024-06-20T07:25:39.798117Z"
    }
   },
   "cell_type": "code",
   "source": [
    "for scenery in sceneries_names:\n",
    "    print(scenery)\n",
    "    minsup = 0.08\n",
    "    file_name = read_params(scenery)\n",
    "    all_sequences = pd.read_json(file_name)\n",
    "\n",
    "    max_grade = int(all_sequences['max_grade'].iloc[0])\n",
    "\n",
    "    formatted = format_tf_data(all_sequences)\n",
    "    all_sequences['events'] = all_sequences['events'].apply(extract_events)\n",
    "    \n",
    "    # mining_result_gsp = gsp_mining(formatted)\n",
    "    mining_result_prefix = prefix_mining(formatted, minsup)\n",
    "\n",
    "    total_sequences = 0\n",
    "    for sequences in mining_result_prefix:\n",
    "        total_sequences += len(sequences)\n",
    "\n",
    "    result = []\n",
    "    for i in range(len(mining_result_prefix)):\n",
    "        result.append(remap_keys(mining_result_prefix[i], i+1))\n",
    "        \n",
    "    # get I-support, F-support, most and least repeated sequences by sequence size  \n",
    "    final_result = {f'{i}_sequences': {'sequences': [], 'most_repeated': {}, 'least_repeated': {}} for i in range(1, len(result) + 1)}\n",
    "    for freq in result:\n",
    "        for key, sequences in freq.items():\n",
    "            most_repeated = { 'total': 0 }\n",
    "            least_repeated = { 'total': 9999999 }\n",
    "            for seq in sequences:\n",
    "                sequence_list = seq[\"sequence\"]\n",
    "                i_support, f_support = get_supports(sequence_list, formatted)\n",
    "                ids = get_sequence_ids(sequence_list, all_sequences)\n",
    "                grade = get_sequence_grade(ids, all_sequences)\n",
    "                sequence = {\n",
    "                    'sequence_size': len(sequence_list),\n",
    "                    'sequence': sequence_list,\n",
    "                    'total': seq['total'],\n",
    "                    'i_support': i_support,\n",
    "                    'f_support': f_support,\n",
    "                    's_support': len(ids),\n",
    "                    'ids': ids,\n",
    "                    'avg_grade': grade,\n",
    "                    'max_grade': max_grade,\n",
    "                }\n",
    "                final_result[key]['sequences'].append(sequence)\n",
    "                if sequence['total'] > most_repeated['total']: most_repeated = sequence\n",
    "                if sequence['total'] < least_repeated['total']: least_repeated = sequence\n",
    "            final_result[key]['most_repeated'] = most_repeated\n",
    "            final_result[key]['least_repeated'] = least_repeated\n",
    "        \n",
    "    # print(json.dumps(final_result['2_sequences'], indent=2, default=lambda o: str(o)))\n",
    "    sceneries[scenery] = final_result\n",
    "    write_result(final_result, scenery, 'sceneries_results')\n",
    "    # break"
   ],
   "outputs": [
    {
     "name": "stdout",
     "output_type": "stream",
     "text": [
      "1-first\n",
      "2-second\n",
      "3-third\n",
      "4-fourth\n",
      "5-fifth\n",
      "6-sixth\n",
      "7-seventh\n",
      "8-eighth\n"
     ]
    }
   ],
   "execution_count": 107
  },
  {
   "metadata": {
    "ExecuteTime": {
     "end_time": "2024-06-20T08:11:27.241906Z",
     "start_time": "2024-06-20T08:11:27.238647Z"
    }
   },
   "cell_type": "code",
   "source": "# print(json.dumps(final_result['2_sequences'], indent=2, default=lambda o: str(o)))",
   "outputs": [],
   "execution_count": 108
  }
 ],
 "metadata": {
  "kernelspec": {
   "display_name": ".venv",
   "language": "python",
   "name": "python3"
  },
  "language_info": {
   "codemirror_mode": {
    "name": "ipython",
    "version": 3
   },
   "file_extension": ".py",
   "mimetype": "text/x-python",
   "name": "python",
   "nbconvert_exporter": "python",
   "pygments_lexer": "ipython3",
   "version": "3.12.4"
  }
 },
 "nbformat": 4,
 "nbformat_minor": 2
}
